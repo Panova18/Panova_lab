{
 "cells": [
  {
   "cell_type": "markdown",
   "id": "6dfc3c18-6c2b-46a3-b5a6-4d30fd028c15",
   "metadata": {},
   "source": [
    "Панова Дарья 11 вариант"
   ]
  },
  {
   "cell_type": "markdown",
   "id": "687fe498-6c1a-48a3-822b-ddd2e7b94d1d",
   "metadata": {},
   "source": [
    "Цель работы: изучить рекурсивные алгоритмы и рекурсивные структуры данных; научиться анализировать итеративные и рекурсивные процедуры; исследовать эффективность итеративных и рекурсивных процедур при реализации на ПЭВМ"
   ]
  },
  {
   "cell_type": "markdown",
   "id": "d158f7c9-5cd1-45b9-a55b-002e9261fdcc",
   "metadata": {},
   "source": [
    "Лабораторная работа 6.  Итеративные и рекурсивные алгоритмы"
   ]
  },
  {
   "cell_type": "code",
   "execution_count": 2,
   "id": "fd830ba0-8ba9-4af5-a23f-6c2e611bb399",
   "metadata": {},
   "outputs": [],
   "source": [
    "import math\n",
    "import sys\n",
    "sys.setrecursionlimit(2000)"
   ]
  },
  {
   "cell_type": "markdown",
   "id": "58edc00d-120f-4141-86b7-19f423ce5a04",
   "metadata": {},
   "source": [
    "Реализуйте алгоритм вычисления суммы с помощью рекурсии $$ y(x,i) = \\sin x + \\sin(\\sin x) + \\ldots + \\sin(\\sin \\ldots (\\sin x)), \\qquad i = 1,2,\\ldots, n$$"
   ]
  },
  {
   "cell_type": "code",
   "execution_count": 3,
   "id": "74817644-f0ca-4669-b7ff-81fa200f9be1",
   "metadata": {},
   "outputs": [
    {
     "name": "stdin",
     "output_type": "stream",
     "text": [
      "Введите значение x:  1\n",
      "Введите количество итераций n:  5\n"
     ]
    },
    {
     "name": "stdout",
     "output_type": "stream",
     "text": [
      "Результат y(1.0, 5) = 3.4802784324567844\n"
     ]
    }
   ],
   "source": [
    "def y(x, i):\n",
    "    if i == 1:\n",
    "        return math.sin(x)\n",
    "    return math.sin(x) + y(math.sin(x), i - 1)\n",
    "\n",
    "x = float(input(\"Введите значение x: \"))\n",
    "n = int(input(\"Введите количество итераций n: \"))\n",
    "result = y(x, n)\n",
    "print(f\"Результат y({x}, {n}) = {result}\")"
   ]
  },
  {
   "cell_type": "markdown",
   "id": "e85e7224-cde6-4e99-b4ed-df0dfbd58121",
   "metadata": {},
   "source": [
    "Реализуйте алгоритм вычисления суммы без рекурсии $$ y(x,i) = \\sin x + \\sin(\\sin x) + \\ldots + \\sin(\\sin \\ldots (\\sin x)), \\qquad i = 1,2,\\ldots, n$$\n"
   ]
  },
  {
   "cell_type": "code",
   "execution_count": 4,
   "id": "5f50cbca-010e-46a7-b847-eae880480904",
   "metadata": {},
   "outputs": [
    {
     "name": "stdin",
     "output_type": "stream",
     "text": [
      "Введите значение x:  1\n",
      "Введите количество итераций n:  5\n"
     ]
    },
    {
     "name": "stdout",
     "output_type": "stream",
     "text": [
      "Результат y(1.0, 5) = 3.480278432456785\n"
     ]
    }
   ],
   "source": [
    "def y_no_recursive(x, n):\n",
    "    result = 0\n",
    "    current = x  \n",
    "    for _ in range(n):\n",
    "        current = math.sin(current)  \n",
    "        result += current  \n",
    "    return result\n",
    "\n",
    "\n",
    "x = float(input(\"Введите значение x: \"))\n",
    "n = int(input(\"Введите количество итераций n: \"))\n",
    "result = y_no_recursive(x, n)\n",
    "print(f\"Результат y({x}, {n}) = {result}\")"
   ]
  },
  {
   "cell_type": "markdown",
   "id": "7b588b72-4b7c-4c36-bd42-0957dd965b93",
   "metadata": {},
   "source": [
    "Работает нормально для 𝑛< 900 (или 𝑛<1000 на некоторых системах)."
   ]
  },
  {
   "cell_type": "markdown",
   "id": "5a2ad953-6bd1-43e2-9200-0798e20570b3",
   "metadata": {},
   "source": [
    "Модернизируйте рекурсивную реализацию таким образом, чтобы сохранялись промежуточные результаты вызова рекурсии (реализуйте подобный механизм вручную, а также с помощью декоратора);"
   ]
  },
  {
   "cell_type": "code",
   "execution_count": 5,
   "id": "497fafa7-0201-4aa4-97bf-fe6ad6824db5",
   "metadata": {},
   "outputs": [
    {
     "name": "stdin",
     "output_type": "stream",
     "text": [
      "Введите значение x:  1\n",
      "Введите количество итераций n:  5\n"
     ]
    },
    {
     "name": "stdout",
     "output_type": "stream",
     "text": [
      "Результат y(1.0, 5) = 3.4802784324567844\n"
     ]
    }
   ],
   "source": [
    "def y_memo(x, i, memo=None):\n",
    "    if memo is None:\n",
    "        memo = {}\n",
    "    # Проверка наличия результата в memo\n",
    "    if (x, i) in memo:\n",
    "        return memo[(x, i)]\n",
    "   \n",
    "    if i == 1:\n",
    "        result = math.sin(x)\n",
    "    else:\n",
    "        result = math.sin(x) + y_memo(math.sin(x), i - 1, memo)\n",
    "    memo[(x, i)] = result  \n",
    "    return result\n",
    "\n",
    "x = float(input(\"Введите значение x: \"))\n",
    "n = int(input(\"Введите количество итераций n: \"))\n",
    "result = y(x, n)\n",
    "print(f\"Результат y({x}, {n}) = {result}\")"
   ]
  },
  {
   "cell_type": "code",
   "execution_count": 6,
   "id": "3289cd7f-9d37-4d76-952b-67fce31d098e",
   "metadata": {},
   "outputs": [
    {
     "name": "stdin",
     "output_type": "stream",
     "text": [
      "Введите значение x:  1\n",
      "Введите количество итераций n:  5\n"
     ]
    },
    {
     "name": "stdout",
     "output_type": "stream",
     "text": [
      "Результат y_cached(1.0, 5) = 3.4802784324567844\n"
     ]
    }
   ],
   "source": [
    "def cache_results(func):\n",
    "    cache = {}\n",
    "\n",
    "    def wrapper(x, i):\n",
    "        if (x, i) in cache:  # Проверяем наличие результата в кэше\n",
    "            return cache[(x, i)]\n",
    "        result = func(x, i)\n",
    "        cache[(x, i)] = result  # Сохраняем результат в кэш\n",
    "        return result\n",
    "    return wrapper\n",
    "\n",
    "\n",
    "@cache_results\n",
    "def y_cached(x, i):\n",
    "    # Базовый случай\n",
    "    if i == 1:\n",
    "        return math.sin(x)\n",
    "    # Рекурсивный случай\n",
    "    return math.sin(x) + y_cached(math.sin(x), i - 1)\n",
    "\n",
    "# Пример использования\n",
    "x = float(input(\"Введите значение x: \"))\n",
    "n = int(input(\"Введите количество итераций n: \"))\n",
    "result = y_cached(x, n)\n",
    "print(f\"Результат y_cached({x}, {n}) = {result}\")"
   ]
  },
  {
   "cell_type": "markdown",
   "id": "74dcaed2-ba9c-4e42-89e6-d835a72b91e3",
   "metadata": {},
   "source": [
    "Сравнение производительности реализованнных алгоритмов"
   ]
  },
  {
   "cell_type": "code",
   "execution_count": 14,
   "id": "41141c93-0bf6-4e2a-9899-a23586517b4d",
   "metadata": {
    "scrolled": true
   },
   "outputs": [
    {
     "name": "stdout",
     "output_type": "stream",
     "text": [
      "Оригинальная реализация: результат = 96.6523, время = 0.0010 сек\n",
      "Ручное кеширование: результат = 96.6523, время = 0.0029 сек\n",
      "Кеширование через декоратор: результат = 96.6523, время = 0.0000 сек\n"
     ]
    }
   ],
   "source": [
    "import time\n",
    "def measure_time(func, x, n):\n",
    "    start_time = time.time()\n",
    "    result = func(x, n)\n",
    "    end_time = time.time()\n",
    "    return result, end_time - start_time\n",
    "\n",
    "# Примерные значения x и n\n",
    "x = 1.0  # Пример значения x\n",
    "n = 900  # Примерное значение n, близкое к лимиту стека\n",
    "\n",
    "# Измеряем время для всех реализаций\n",
    "try:\n",
    "    result, time_original = measure_time(y, x, n)\n",
    "    print(f\"Оригинальная реализация: результат = {result:.4f}, время = {time_original:.4f} сек\")\n",
    "except RecursionError:\n",
    "    print(\"Оригинальная реализация: переполнение стека\")\n",
    "\n",
    "result, time_memo_manual = measure_time(lambda x, n: y_memo(x, n), x, n)\n",
    "print(f\"Ручное кеширование: результат = {result:.4f}, время = {time_memo_manual:.4f} сек\")\n",
    "\n",
    "result, time_memo_decorator = measure_time(lambda x, n: y_cached(x, n), x, n)\n",
    "print(f\"Кеширование через декоратор: результат = {result:.4f}, время = {time_memo_decorator:.4f} сек\")"
   ]
  },
  {
   "cell_type": "markdown",
   "id": "20d1b0d8-52d2-48e8-93d0-ce18665b1d8d",
   "metadata": {},
   "source": [
    "Блок-схема"
   ]
  },
  {
   "attachments": {
    "46dc90b3-66a8-4daa-a2e4-b2822639e956.png": {
     "image/png": "[encoded data removed]"
    }
   },
   "cell_type": "markdown",
   "id": "c2af54b9-d96f-45ff-bdf6-276193724f30",
   "metadata": {},
   "source": [
    "![2024-12-04_22-53-23.png](attachment:46dc90b3-66a8-4daa-a2e4-b2822639e956.png)"
   ]
  },
  {
   "cell_type": "code",
   "execution_count": null,
   "id": "5221f01e-1a08-4df4-9752-9e802a49fe8f",
   "metadata": {},
   "outputs": [],
   "source": []
  },
  {
   "cell_type": "code",
   "execution_count": null,
   "id": "8c5acd3a-3a4b-4647-8b17-fe708a10fc7d",
   "metadata": {},
   "outputs": [],
   "source": []
  },
  {
   "cell_type": "code",
   "execution_count": null,
   "id": "70f6cd7e-f79d-4f42-80f5-ac7e447d0d0e",
   "metadata": {},
   "outputs": [],
   "source": []
  },
  {
   "cell_type": "code",
   "execution_count": null,
   "id": "36fa1006-6cd3-4102-92d7-125d6164db75",
   "metadata": {},
   "outputs": [],
   "source": []
  }
 ],
 "metadata": {
  "kernelspec": {
   "display_name": "Python 3 (ipykernel)",
   "language": "python",
   "name": "python3"
  },
  "language_info": {
   "codemirror_mode": {
    "name": "ipython",
    "version": 3
   },
   "file_extension": ".py",
   "mimetype": "text/x-python",
   "name": "python",
   "nbconvert_exporter": "python",
   "pygments_lexer": "ipython3",
   "version": "3.12.6"
  }
 },
 "nbformat": 4,
 "nbformat_minor": 5
}
